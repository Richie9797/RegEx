{
  "nbformat": 4,
  "nbformat_minor": 0,
  "metadata": {
    "colab": {
      "name": "Assignment no 1.ipynb",
      "provenance": [],
      "collapsed_sections": []
    },
    "kernelspec": {
      "name": "python3",
      "display_name": "Python 3"
    },
    "language_info": {
      "name": "python"
    }
  },
  "cells": [
    {
      "cell_type": "markdown",
      "metadata": {
        "id": "uDEU8Hm06OQJ"
      },
      "source": [
        "* **#Task 1**   \n",
        "* **Registration/Referral id :** SIRSS2234\n",
        "* **Full name :**Sumit Raosaheb Deshmukh"
      ]
    },
    {
      "cell_type": "markdown",
      "metadata": {
        "id": "5up8Qc5q62UT"
      },
      "source": [
        "**Q1.**"
      ]
    },
    {
      "cell_type": "code",
      "metadata": {
        "id": "8lTKZZGV68nl",
        "colab": {
          "base_uri": "https://localhost:8080/"
        },
        "outputId": "80b34c03-8a9f-4845-d711-332580793204"
      },
      "source": [
        "for i in range(5):\n",
        "  for j  in range(5-i):\n",
        "    print(5,end=' ')\n",
        "  print()"
      ],
      "execution_count": 32,
      "outputs": [
        {
          "output_type": "stream",
          "text": [
            "5 5 5 5 5 \n",
            "5 5 5 5 \n",
            "5 5 5 \n",
            "5 5 \n",
            "5 \n"
          ],
          "name": "stdout"
        }
      ]
    },
    {
      "cell_type": "markdown",
      "metadata": {
        "id": "9_Vnzqc87Vxh"
      },
      "source": [
        "**Q2.**"
      ]
    },
    {
      "cell_type": "code",
      "metadata": {
        "id": "YHvkDm-H7YmZ",
        "colab": {
          "base_uri": "https://localhost:8080/"
        },
        "outputId": "4f110027-f90b-41ff-ce83-52c4d8b9fa29"
      },
      "source": [
        "for i in range(6):\n",
        "  for j in range(6-i):\n",
        "    if i<5:\n",
        "      print(j,end=' ')\n",
        "  print()"
      ],
      "execution_count": 33,
      "outputs": [
        {
          "output_type": "stream",
          "text": [
            "0 1 2 3 4 5 \n",
            "0 1 2 3 4 \n",
            "0 1 2 3 \n",
            "0 1 2 \n",
            "0 1 \n",
            "\n"
          ],
          "name": "stdout"
        }
      ]
    },
    {
      "cell_type": "markdown",
      "metadata": {
        "id": "8oEakjO97sfo"
      },
      "source": [
        "**Q3.**"
      ]
    },
    {
      "cell_type": "code",
      "metadata": {
        "id": "mnaci72C7vsP",
        "colab": {
          "base_uri": "https://localhost:8080/"
        },
        "outputId": "3e79cf13-7446-434c-ddfc-e6db32aa3de8"
      },
      "source": [
        "i=1\n",
        "while i<=5:\n",
        "  j=1\n",
        "  while j<=i:\n",
        "    print(i*2-1,end = ' ')\n",
        "    j=j+1\n",
        "  i=i+1\n",
        "  print()"
      ],
      "execution_count": 34,
      "outputs": [
        {
          "output_type": "stream",
          "text": [
            "1 \n",
            "3 3 \n",
            "5 5 5 \n",
            "7 7 7 7 \n",
            "9 9 9 9 9 \n"
          ],
          "name": "stdout"
        }
      ]
    },
    {
      "cell_type": "markdown",
      "metadata": {
        "id": "SJORH8fj744v"
      },
      "source": [
        "**Q4.**"
      ]
    },
    {
      "cell_type": "code",
      "metadata": {
        "id": "YQfbbyFr8Cg0",
        "colab": {
          "base_uri": "https://localhost:8080/"
        },
        "outputId": "6c4cb373-cf22-4ca9-9683-3308d557bc57"
      },
      "source": [
        "for i in range(1,6):\n",
        "  for j in range(i,0,-1):\n",
        "    print(j,end=' ')\n",
        "  print()"
      ],
      "execution_count": 35,
      "outputs": [
        {
          "output_type": "stream",
          "text": [
            "1 \n",
            "2 1 \n",
            "3 2 1 \n",
            "4 3 2 1 \n",
            "5 4 3 2 1 \n"
          ],
          "name": "stdout"
        }
      ]
    },
    {
      "cell_type": "markdown",
      "metadata": {
        "id": "as2SNxPt8uCV"
      },
      "source": [
        "**Q5.**"
      ]
    },
    {
      "cell_type": "code",
      "metadata": {
        "id": "SvZGWmSB8wIJ",
        "colab": {
          "base_uri": "https://localhost:8080/"
        },
        "outputId": "adcd8404-886f-4d41-a46e-7a6edd0bd9b7"
      },
      "source": [
        "a=1\n",
        "b=2\n",
        "c=b\n",
        "for i in range(2,6):\n",
        "  for j in range(a,b):\n",
        "    c-=1\n",
        "    print(c,end=' ')\n",
        "  print()\n",
        "  a=b\n",
        "  b+=i\n",
        "  c=b"
      ],
      "execution_count": 36,
      "outputs": [
        {
          "output_type": "stream",
          "text": [
            "1 \n",
            "3 2 \n",
            "6 5 4 \n",
            "10 9 8 7 \n"
          ],
          "name": "stdout"
        }
      ]
    },
    {
      "cell_type": "markdown",
      "metadata": {
        "id": "ZYgO9ASH80hF"
      },
      "source": [
        "**Q6.**"
      ]
    },
    {
      "cell_type": "code",
      "metadata": {
        "id": "hrQOuKoX85Rn",
        "colab": {
          "base_uri": "https://localhost:8080/"
        },
        "outputId": "6afa3458-11f9-4575-c866-29d4b0d69144"
      },
      "source": [
        "def fac(n):\n",
        "  f=1\n",
        "  while(n>1):\n",
        "    f=f*(n)\n",
        "    n=n-1\n",
        "  return f\n",
        "\n",
        "def c(n,r):\n",
        "  return int(fac(n)/(fac(r)*fac(n-r)))\n",
        "  \n",
        "\n",
        "for i in range(0,7):\n",
        "  x=0\n",
        "  for j in range(i+1):\n",
        "    print(c(i,x),end=\" \")\n",
        "    x=x+1\n",
        "  print()"
      ],
      "execution_count": 37,
      "outputs": [
        {
          "output_type": "stream",
          "text": [
            "1 \n",
            "1 1 \n",
            "1 2 1 \n",
            "1 3 3 1 \n",
            "1 4 6 4 1 \n",
            "1 5 10 10 5 1 \n",
            "1 6 15 20 15 6 1 \n"
          ],
          "name": "stdout"
        }
      ]
    },
    {
      "cell_type": "markdown",
      "metadata": {
        "id": "rHvSLLbd8-BL"
      },
      "source": [
        "**Q7.**"
      ]
    },
    {
      "cell_type": "code",
      "metadata": {
        "id": "f43RE_PI9ACT",
        "colab": {
          "base_uri": "https://localhost:8080/"
        },
        "outputId": "adc48d16-e26e-4592-ea4b-cff40045eb4f"
      },
      "source": [
        "for i in range(1,6):\n",
        "  for j in range(1,6):\n",
        "    if j<=i:\n",
        "      print(i,end=' ')\n",
        "    else:\n",
        "      print(j,end=' ')\n",
        "  print()"
      ],
      "execution_count": 38,
      "outputs": [
        {
          "output_type": "stream",
          "text": [
            "1 2 3 4 5 \n",
            "2 2 3 4 5 \n",
            "3 3 3 4 5 \n",
            "4 4 4 4 5 \n",
            "5 5 5 5 5 \n"
          ],
          "name": "stdout"
        }
      ]
    },
    {
      "cell_type": "markdown",
      "metadata": {
        "id": "YpisATi_9GZI"
      },
      "source": [
        "**Q8.**"
      ]
    },
    {
      "cell_type": "code",
      "metadata": {
        "id": "8cgAfjdh9Ii6",
        "colab": {
          "base_uri": "https://localhost:8080/"
        },
        "outputId": "7955fef9-656d-4329-8209-37f6833c64c1"
      },
      "source": [
        "for i in range(1,9):\n",
        "  for j in range(1,i+1):\n",
        "    print(i*j,end=' ')\n",
        "  print()"
      ],
      "execution_count": 39,
      "outputs": [
        {
          "output_type": "stream",
          "text": [
            "1 \n",
            "2 4 \n",
            "3 6 9 \n",
            "4 8 12 16 \n",
            "5 10 15 20 25 \n",
            "6 12 18 24 30 36 \n",
            "7 14 21 28 35 42 49 \n",
            "8 16 24 32 40 48 56 64 \n"
          ],
          "name": "stdout"
        }
      ]
    },
    {
      "cell_type": "markdown",
      "metadata": {
        "id": "kgYn_SCp9SqQ"
      },
      "source": [
        "**Q9.**"
      ]
    },
    {
      "cell_type": "code",
      "metadata": {
        "id": "TdHyKlPo9Umf",
        "colab": {
          "base_uri": "https://localhost:8080/"
        },
        "outputId": "3d5aad51-678f-4c5d-f2f0-928e9e7a88c6"
      },
      "source": [
        "for i in range(0,6):\n",
        "  for j in range(i):\n",
        "    print(\" \",end=\"\")\n",
        "  for k in range(6-i):\n",
        "   print(\"* \",end=\"\")\n",
        "  print(\"\\n\")"
      ],
      "execution_count": 40,
      "outputs": [
        {
          "output_type": "stream",
          "text": [
            "* * * * * * \n",
            "\n",
            " * * * * * \n",
            "\n",
            "  * * * * \n",
            "\n",
            "   * * * \n",
            "\n",
            "    * * \n",
            "\n",
            "     * \n",
            "\n"
          ],
          "name": "stdout"
        }
      ]
    },
    {
      "cell_type": "markdown",
      "metadata": {
        "id": "MLQtZU5Q9YMT"
      },
      "source": [
        "**Q10.**"
      ]
    },
    {
      "cell_type": "code",
      "metadata": {
        "id": "S54Zqv3-9Z9N",
        "colab": {
          "base_uri": "https://localhost:8080/"
        },
        "outputId": "8e424e06-1e05-4ae6-dbc5-d1c509bf5b05"
      },
      "source": [
        "for i in range(0,8):\n",
        "  for j in range(8-i):\n",
        "    print(\" \",end=\"\")\n",
        "  for k in range(i):\n",
        "   print(\"* \",end=\"\")\n",
        "  print(\"\\n\")"
      ],
      "execution_count": 41,
      "outputs": [
        {
          "output_type": "stream",
          "text": [
            "        \n",
            "\n",
            "       * \n",
            "\n",
            "      * * \n",
            "\n",
            "     * * * \n",
            "\n",
            "    * * * * \n",
            "\n",
            "   * * * * * \n",
            "\n",
            "  * * * * * * \n",
            "\n",
            " * * * * * * * \n",
            "\n"
          ],
          "name": "stdout"
        }
      ]
    },
    {
      "cell_type": "markdown",
      "metadata": {
        "id": "45bLWtGS9yL1"
      },
      "source": [
        "**Q11.**"
      ]
    },
    {
      "cell_type": "code",
      "metadata": {
        "id": "jSpZIqu99z9Q",
        "colab": {
          "base_uri": "https://localhost:8080/"
        },
        "outputId": "6ceee098-0580-4da0-f765-639933af4435"
      },
      "source": [
        "for i in range(0,6):\n",
        "  for j in range(0,i+1):\n",
        "    print(\"*\",end=' ')\n",
        "  print()\n",
        "\n",
        "print()\n",
        "\n",
        "for i in range(7,0,-1):\n",
        "  for j in range(0,i-1):\n",
        "    print(\"*\",end=' ')\n",
        "  print()"
      ],
      "execution_count": 42,
      "outputs": [
        {
          "output_type": "stream",
          "text": [
            "* \n",
            "* * \n",
            "* * * \n",
            "* * * * \n",
            "* * * * * \n",
            "* * * * * * \n",
            "\n",
            "* * * * * * \n",
            "* * * * * \n",
            "* * * * \n",
            "* * * \n",
            "* * \n",
            "* \n",
            "\n"
          ],
          "name": "stdout"
        }
      ]
    },
    {
      "cell_type": "markdown",
      "metadata": {
        "id": "EAdqgRCD-JOQ"
      },
      "source": [
        "**Q12.**"
      ]
    },
    {
      "cell_type": "code",
      "metadata": {
        "id": "I0V-n6co-LA9",
        "colab": {
          "base_uri": "https://localhost:8080/"
        },
        "outputId": "f6ba069a-2812-4725-9330-2a2b4a40c7d1"
      },
      "source": [
        "for i in range(0,5):\n",
        "  for j in range(0,i+1):\n",
        "    print(\"*\",end=' ')\n",
        "  print()\n",
        "\n",
        "for i in range(5,0,-1):\n",
        "  for j in range(0,i-1):\n",
        "    print(\"*\",end=' ')\n",
        "  print()"
      ],
      "execution_count": 43,
      "outputs": [
        {
          "output_type": "stream",
          "text": [
            "* \n",
            "* * \n",
            "* * * \n",
            "* * * * \n",
            "* * * * * \n",
            "* * * * \n",
            "* * * \n",
            "* * \n",
            "* \n",
            "\n"
          ],
          "name": "stdout"
        }
      ]
    },
    {
      "cell_type": "markdown",
      "metadata": {
        "id": "BEgPcBNi-Qyl"
      },
      "source": [
        "**Q13.**"
      ]
    },
    {
      "cell_type": "code",
      "metadata": {
        "id": "uRDFr8Iu-S_e",
        "colab": {
          "base_uri": "https://localhost:8080/"
        },
        "outputId": "3ac04758-177e-4479-c126-1c469fc2e440"
      },
      "source": [
        "for i in range(0,6):\n",
        "  for j in range(6-i):\n",
        "    print(\"  \",end=\"\")\n",
        "  for k in range(i):\n",
        "   print(\"* \",end=\"\")\n",
        "  print(\"\\n\")\n",
        "for i in range(1,5):\n",
        "  for j in range(i+1):\n",
        "    print(\"  \",end=\"\")\n",
        "  for k in range(5-i):\n",
        "   print(\"* \",end=\"\")\n",
        "  print(\"\\n\")"
      ],
      "execution_count": 44,
      "outputs": [
        {
          "output_type": "stream",
          "text": [
            "            \n",
            "\n",
            "          * \n",
            "\n",
            "        * * \n",
            "\n",
            "      * * * \n",
            "\n",
            "    * * * * \n",
            "\n",
            "  * * * * * \n",
            "\n",
            "    * * * * \n",
            "\n",
            "      * * * \n",
            "\n",
            "        * * \n",
            "\n",
            "          * \n",
            "\n"
          ],
          "name": "stdout"
        }
      ]
    },
    {
      "cell_type": "markdown",
      "metadata": {
        "id": "tRTWkgIq-VFt"
      },
      "source": [
        "**Q14.**"
      ]
    },
    {
      "cell_type": "code",
      "metadata": {
        "id": "gv082aio-ZYR",
        "colab": {
          "base_uri": "https://localhost:8080/"
        },
        "outputId": "227ad279-1a75-4819-fcb1-6a75bf78cccf"
      },
      "source": [
        "for i in range(1,6):\n",
        "  for j in range(i):\n",
        "    print(\" \",end=\"\")\n",
        "  for k in range(6-i):\n",
        "   print(\"* \",end=\"\")\n",
        "  print(\"\\n\")\n",
        "for i in range(0,6):\n",
        "  for j in range(6-i):\n",
        "    print(\" \",end=\"\")\n",
        "  for k in range(i):\n",
        "   print(\"* \",end=\"\")\n",
        "  print(\"\\n\")"
      ],
      "execution_count": 45,
      "outputs": [
        {
          "output_type": "stream",
          "text": [
            " * * * * * \n",
            "\n",
            "  * * * * \n",
            "\n",
            "   * * * \n",
            "\n",
            "    * * \n",
            "\n",
            "     * \n",
            "\n",
            "      \n",
            "\n",
            "     * \n",
            "\n",
            "    * * \n",
            "\n",
            "   * * * \n",
            "\n",
            "  * * * * \n",
            "\n",
            " * * * * * \n",
            "\n"
          ],
          "name": "stdout"
        }
      ]
    },
    {
      "cell_type": "markdown",
      "metadata": {
        "id": "GBp4KHcl-dyB"
      },
      "source": [
        "**Q15.**"
      ]
    },
    {
      "cell_type": "code",
      "metadata": {
        "colab": {
          "base_uri": "https://localhost:8080/"
        },
        "id": "1khUv6y5-fTi",
        "outputId": "dfce0cef-ce05-4302-efe9-f84770c48cd2"
      },
      "source": [
        "for i in range(0,8):\n",
        "  for j in range(8-i):\n",
        "    print(\"* \",end=\"\")\n",
        "  for k in range(i*2):\n",
        "    print(\"_ \",end=\"\")\n",
        "  for l in range(8-i):\n",
        "    print(\"* \",end=\"\")\n",
        "  print(\"\\n\")"
      ],
      "execution_count": 46,
      "outputs": [
        {
          "output_type": "stream",
          "text": [
            "* * * * * * * * * * * * * * * * \n",
            "\n",
            "* * * * * * * _ _ * * * * * * * \n",
            "\n",
            "* * * * * * _ _ _ _ * * * * * * \n",
            "\n",
            "* * * * * _ _ _ _ _ _ * * * * * \n",
            "\n",
            "* * * * _ _ _ _ _ _ _ _ * * * * \n",
            "\n",
            "* * * _ _ _ _ _ _ _ _ _ _ * * * \n",
            "\n",
            "* * _ _ _ _ _ _ _ _ _ _ _ _ * * \n",
            "\n",
            "* _ _ _ _ _ _ _ _ _ _ _ _ _ _ * \n",
            "\n"
          ],
          "name": "stdout"
        }
      ]
    }
  ]
}